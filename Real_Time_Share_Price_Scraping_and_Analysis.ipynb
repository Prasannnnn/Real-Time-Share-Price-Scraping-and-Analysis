{
  "nbformat": 4,
  "nbformat_minor": 0,
  "metadata": {
    "colab": {
      "provenance": [],
      "authorship_tag": "ABX9TyPC+WpiVDff0iCyPwnyZGAr",
      "include_colab_link": true
    },
    "kernelspec": {
      "name": "python3",
      "display_name": "Python 3"
    },
    "language_info": {
      "name": "python"
    }
  },
  "cells": [
    {
      "cell_type": "markdown",
      "metadata": {
        "id": "view-in-github",
        "colab_type": "text"
      },
      "source": [
        "<a href=\"https://colab.research.google.com/github/Prasannnnn/Real-Time-Share-Price-Scraping-and-Analysis/blob/main/Real_Time_Share_Price_Scraping_and_Analysis.ipynb\" target=\"_parent\"><img src=\"https://colab.research.google.com/assets/colab-badge.svg\" alt=\"Open In Colab\"/></a>"
      ]
    },
    {
      "cell_type": "code",
      "execution_count": 21,
      "metadata": {
        "id": "FPVAWadTiQ3S"
      },
      "outputs": [],
      "source": [
        "import requests\n",
        "from bs4 import BeautifulSoup\n",
        "import pandas as pd"
      ]
    },
    {
      "cell_type": "code",
      "source": [
        "def scrape_screener(stock_name):\n",
        "    \"\"\"Scrapes financial data of a given stock from Screener.in\"\"\"\n",
        "    url = f\"https://www.screener.in/company/{stock_name}/\"\n",
        "\n",
        "    headers = {\n",
        "        'User-Agent': 'Mozilla/5.0 (Windows NT 10.0; Win64; x64) '\n",
        "                      'AppleWebKit/537.36 (KHTML, like Gecko) '\n",
        "                      'Chrome/84.0.4147.105 Safari/537.36'\n",
        "    }\n",
        "\n",
        "    response = requests.get(url, headers=headers)\n",
        "\n",
        "    if response.status_code != 200:\n",
        "        return {\"Error\": f\"Failed to fetch data for {stock_name}. Check stock symbol.\"}\n",
        "\n",
        "    soup = BeautifulSoup(response.content, 'html.parser')\n",
        "\n",
        "    try:\n",
        "        company_name = extract_company_name(soup)\n",
        "\n",
        "        # Extract financial metrics\n",
        "        market_cap = extract_value(soup, 'Market Cap')\n",
        "        current_price = extract_value(soup, 'Current Price')\n",
        "        high_low = extract_value(soup, 'High / Low')\n",
        "        stock_pe = extract_value(soup, 'Stock P/E')\n",
        "        dividend_yield = extract_value(soup, 'Dividend Yield')\n",
        "        roce = extract_value(soup, 'ROCE')\n",
        "        roe = extract_value(soup, 'ROE')\n",
        "\n",
        "        # Perform Sentiment Analysis\n",
        "        sentiment = get_sentiment(stock_pe, roce, roe, current_price, high_low, dividend_yield)\n",
        "\n",
        "        data = {\n",
        "            'Company Name': company_name,\n",
        "            'Market Cap': market_cap,\n",
        "            'Current Price': current_price,\n",
        "            'High / Low': high_low,\n",
        "            'Stock P/E': stock_pe,\n",
        "            'Dividend Yield': dividend_yield,\n",
        "            'ROCE': roce,\n",
        "            'ROE': roe,\n",
        "            'Recommendation': sentiment\n",
        "        }\n",
        "\n",
        "        df = pd.DataFrame([data])\n",
        "        return df\n",
        "\n",
        "    except Exception as e:\n",
        "        return {\"Error\": f\"Parsing error: {e}\"}\n"
      ],
      "metadata": {
        "id": "aUgiD9abiYr2"
      },
      "execution_count": 22,
      "outputs": []
    },
    {
      "cell_type": "code",
      "source": [
        "def extract_company_name(soup):\n",
        "    \"\"\"Extracts the company name from the page.\"\"\"\n",
        "    company_name_tag = soup.find('h1', class_=\"company-name\") or soup.find('h1', class_='margin-0')\n",
        "    return company_name_tag.text.strip() if company_name_tag else 'N/A'"
      ],
      "metadata": {
        "id": "jP_H55ZfsWzz"
      },
      "execution_count": 23,
      "outputs": []
    },
    {
      "cell_type": "code",
      "source": [
        "\n",
        "def extract_value(soup, label):\n",
        "    \"\"\"Extracts financial values based on the label.\"\"\"\n",
        "    try:\n",
        "        label_tag = soup.find(string=lambda text: text and label in text)\n",
        "        if label_tag:\n",
        "            parent = label_tag.parent\n",
        "            value_tag = parent.find_next(class_='number')\n",
        "            return value_tag.text.strip() if value_tag else 'N/A'\n",
        "        return 'N/A'\n",
        "    except Exception:\n",
        "        return 'N/A'"
      ],
      "metadata": {
        "id": "izcY4E1cibzu"
      },
      "execution_count": 24,
      "outputs": []
    },
    {
      "cell_type": "code",
      "source": [
        "def get_sentiment(stock_pe, roce, roe, current_price, high_low, dividend_yield):\n",
        "    \"\"\"Performs basic sentiment analysis to decide Buy, Hold, or Sell\"\"\"\n",
        "\n",
        "    try:\n",
        "        pe_ratio = float(stock_pe) if stock_pe.replace('.', '', 1).isdigit() else None\n",
        "        roce_value = float(roce.replace('%', '')) if roce.replace('%', '').replace('.', '', 1).isdigit() else None\n",
        "        roe_value = float(roe.replace('%', '')) if roe.replace('%', '').replace('.', '', 1).isdigit() else None\n",
        "        div_yield = float(dividend_yield.replace('%', '')) if dividend_yield.replace('%', '').replace('.', '', 1).isdigit() else None\n",
        "\n",
        "        # Extract high and low values from High/Low string\n",
        "        if \"/\" in high_low:\n",
        "            low, high = map(lambda x: float(x.strip()), high_low.split('/'))\n",
        "            price_ratio = (float(current_price) - low) / (high - low)\n",
        "        else:\n",
        "            price_ratio = None\n",
        "\n",
        "        # Decision Logic\n",
        "        if pe_ratio and pe_ratio < 20 and roce_value and roce_value > 15 and roe_value and roe_value > 15:\n",
        "            return \"BUY 📈 (Good Fundamentals)\"\n",
        "        elif price_ratio and price_ratio > 0.8:  # If price is close to 52-week high\n",
        "            return \"WAIT ⏳ (Too Expensive)\"\n",
        "        elif price_ratio and price_ratio < 0.2:  # If price is near 52-week low\n",
        "            return \"BUY 📉 (Undervalued)\"\n",
        "        elif div_yield and div_yield > 4:  # High dividend yield\n",
        "            return \"BUY 💰 (Good for Dividends)\"\n",
        "        elif pe_ratio and pe_ratio > 40:  # High P/E ratio\n",
        "            return \"SELL ❌ (Overvalued)\"\n",
        "        else:\n",
        "            return \"HOLD 🤔 (Needs Further Analysis)\"\n",
        "\n",
        "    except Exception:\n",
        "        return \"HOLD 🤔 (Insufficient Data)\""
      ],
      "metadata": {
        "id": "uYM3bqv1sbN6"
      },
      "execution_count": 25,
      "outputs": []
    },
    {
      "cell_type": "code",
      "source": [
        "# **User Input for Stock Name**\n",
        "stock_name = input(\"Enter stock symbol (e.g., TCS, RELIANCE, INFY): \").upper()\n",
        "\n",
        "# **Run the scraper**\n",
        "result = scrape_screener(stock_name)\n",
        "\n",
        "# **Display result**\n",
        "if isinstance(result, pd.DataFrame):\n",
        "    print(result)\n",
        "else:\n",
        "    print(result[\"Error\"])"
      ],
      "metadata": {
        "colab": {
          "base_uri": "https://localhost:8080/"
        },
        "id": "uqK2ndMBsldJ",
        "outputId": "10ec81fe-d986-4487-ac8f-95e4f7354cb2"
      },
      "execution_count": 26,
      "outputs": [
        {
          "output_type": "stream",
          "name": "stdout",
          "text": [
            "Enter stock symbol (e.g., TCS, RELIANCE, INFY): tcs\n",
            "                    Company Name Market Cap Current Price High / Low  \\\n",
            "0  Tata Consultancy Services Ltd  14,74,921         4,073      4,592   \n",
            "\n",
            "  Stock P/E Dividend Yield  ROCE   ROE                   Recommendation  \n",
            "0      30.5           1.35  74.8  60.4  HOLD 🤔 (Needs Further Analysis)  \n"
          ]
        }
      ]
    }
  ]
}